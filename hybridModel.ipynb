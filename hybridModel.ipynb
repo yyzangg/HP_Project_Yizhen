{
 "cells": [
  {
   "cell_type": "code",
   "execution_count": 3,
   "metadata": {},
   "outputs": [],
   "source": [
    "import pandas as pd\n",
    "import warnings\n",
    "import numpy as np\n",
    "from sklearn.preprocessing import MinMaxScaler\n",
    "from sklearn.model_selection import train_test_split\n",
    "from tensorflow.keras.models import Sequential, Model\n",
    "from tensorflow.keras.layers import LSTM, Dense, concatenate\n",
    "from tensorflow.keras.callbacks import EarlyStopping\n",
    "import torch\n",
    "import torch.nn as nn\n",
    "from torch.utils.data import DataLoader, Dataset\n",
    "from sklearn.preprocessing import StandardScaler\n",
    "from tcn import TCN\n",
    "\n",
    "warnings.filterwarnings('ignore')\n"
   ]
  },
  {
   "cell_type": "code",
   "execution_count": 4,
   "metadata": {},
   "outputs": [],
   "source": [
    "file_path = \"myData2.parquet\"\n",
    "df = pd.read_parquet(file_path)\n"
   ]
  },
  {
   "cell_type": "code",
   "execution_count": 5,
   "metadata": {},
   "outputs": [],
   "source": [
    "selected_features = ['timestamp_seconds', # lowers the accuracy \n",
    "                     'node_memory_Percpu_bytes', \n",
    "                     'node_context_switches_total', \n",
    "                     'surfsara_power_usage', \n",
    "                     'node_netstat_Tcp_InSegs', \n",
    "                     'node_netstat_Tcp_OutSegs', \n",
    "                     'node_network_transmit_packets_total-sum', \n",
    "                     'node_filesystem_size_bytes-sum', \n",
    "                     'node_filesystem_files-sum', \n",
    "                     'node_memory_MemFree_bytes', \n",
    "                     'node_netstat_Tcp_InErrs']\n"
   ]
  },
  {
   "cell_type": "code",
   "execution_count": 6,
   "metadata": {},
   "outputs": [],
   "source": [
    "# Add a new column 'failed_jobs' representing the target variable\n",
    "df['failed_jobs'] = (df['state'] == 'FAILED').astype(int)\n",
    "\n",
    "# Extract relevant columns\n",
    "df_selected = df[['timestamp', 'state'] + selected_features].copy()\n",
    "\n",
    "# Encode the target variable 'state' to binary (0 for \"COMPLETED\", 1 otherwise)\n",
    "df_selected['target'] = (df_selected['state'] != 'COMPLETED').astype(int)\n",
    "\n",
    "# Drop the original 'state' column\n",
    "df_selected.drop('state', axis=1, inplace=True)\n",
    "\n",
    "# Define time intervals\n",
    "time_intervals = {'minute': '1T', 'hour': '1H', 'day': '1D'}\n",
    "\n",
    "# Normalize selected features\n",
    "scaler = MinMaxScaler()\n",
    "df_selected[selected_features] = scaler.fit_transform(df_selected[selected_features])\n",
    "\n",
    "# Set sequence length\n",
    "sequence_length = 30\n",
    "\n",
    "# Define early stopping\n",
    "early_stopping = EarlyStopping(monitor='val_loss', patience=3, restore_best_weights=True)\n"
   ]
  },
  {
   "cell_type": "code",
   "execution_count": 7,
   "metadata": {},
   "outputs": [],
   "source": [
    "# Function to prepare data\n",
    "def prepare_data(data, time_interval):\n",
    "    data.set_index('timestamp', inplace=True) # FixMe\n",
    "    data_resampled = data.resample(time_interval).sum()\n",
    "    data_resampled['target'] = data_resampled['target'].clip(upper=1)  # Clip values to 1\n",
    "    return data_resampled\n",
    "\n",
    "# Function to create sequences\n",
    "def create_sequences(data, sequence_length):\n",
    "    sequences, targets = [], []\n",
    "    for i in range(len(data) - sequence_length):\n",
    "        seq = data.iloc[i:i+sequence_length].values\n",
    "        target = data.iloc[i+sequence_length]['target']\n",
    "        sequences.append(seq)\n",
    "        targets.append(target)\n",
    "    return np.array(sequences), np.array(targets)\n"
   ]
  },
  {
   "cell_type": "markdown",
   "metadata": {},
   "source": [
    "# Hour"
   ]
  },
  {
   "cell_type": "code",
   "execution_count": 8,
   "metadata": {},
   "outputs": [],
   "source": [
    "# Prepare data with hourly intervals\n",
    "data_hour = prepare_data(df_selected, time_intervals['hour'])\n"
   ]
  },
  {
   "cell_type": "code",
   "execution_count": 9,
   "metadata": {},
   "outputs": [],
   "source": [
    "# Create sequences and targets\n",
    "sequences_hour, targets_hour = create_sequences(data_hour, sequence_length)\n",
    "\n",
    "# Split the data into training and testing sets\n",
    "X_train_hour, X_test_hour, y_train_hour, y_test_hour = train_test_split(sequences_hour, targets_hour, test_size=0.3, random_state=42)\n"
   ]
  },
  {
   "cell_type": "markdown",
   "metadata": {},
   "source": [
    "## LSTM"
   ]
  },
  {
   "cell_type": "code",
   "execution_count": 10,
   "metadata": {},
   "outputs": [],
   "source": [
    "# Build the LSTM model\n",
    "lstm_model_hour = Sequential()\n",
    "lstm_model_hour.add(LSTM(50, input_shape=(X_train_hour.shape[1], X_train_hour.shape[2])))\n",
    "lstm_model_hour.add(Dense(1, activation='sigmoid'))\n",
    "lstm_model_hour.compile(loss='mean_absolute_error', optimizer='adam', metrics=['mean_absolute_error'])\n"
   ]
  },
  {
   "cell_type": "code",
   "execution_count": 11,
   "metadata": {},
   "outputs": [
    {
     "name": "stdout",
     "output_type": "stream",
     "text": [
      "Epoch 1/20\n"
     ]
    },
    {
     "name": "stdout",
     "output_type": "stream",
     "text": [
      "54/54 [==============================] - 4s 31ms/step - loss: 0.3861 - mean_absolute_error: 0.3861 - val_loss: 0.2982 - val_mean_absolute_error: 0.2982\n",
      "Epoch 2/20\n",
      "54/54 [==============================] - 1s 22ms/step - loss: 0.2879 - mean_absolute_error: 0.2879 - val_loss: 0.2522 - val_mean_absolute_error: 0.2522\n",
      "Epoch 3/20\n",
      "54/54 [==============================] - 1s 21ms/step - loss: 0.2433 - mean_absolute_error: 0.2433 - val_loss: 0.2174 - val_mean_absolute_error: 0.2174\n",
      "Epoch 4/20\n",
      "54/54 [==============================] - 1s 21ms/step - loss: 0.2158 - mean_absolute_error: 0.2158 - val_loss: 0.2030 - val_mean_absolute_error: 0.2030\n",
      "Epoch 5/20\n",
      "54/54 [==============================] - 1s 21ms/step - loss: 0.2006 - mean_absolute_error: 0.2006 - val_loss: 0.1853 - val_mean_absolute_error: 0.1853\n",
      "Epoch 6/20\n",
      "54/54 [==============================] - 1s 22ms/step - loss: 0.1805 - mean_absolute_error: 0.1805 - val_loss: 0.1734 - val_mean_absolute_error: 0.1734\n",
      "Epoch 7/20\n",
      "54/54 [==============================] - 1s 22ms/step - loss: 0.1712 - mean_absolute_error: 0.1712 - val_loss: 0.1612 - val_mean_absolute_error: 0.1612\n",
      "Epoch 8/20\n",
      "54/54 [==============================] - 1s 21ms/step - loss: 0.1649 - mean_absolute_error: 0.1649 - val_loss: 0.1476 - val_mean_absolute_error: 0.1476\n",
      "Epoch 9/20\n",
      "54/54 [==============================] - 1s 21ms/step - loss: 0.1572 - mean_absolute_error: 0.1572 - val_loss: 0.1402 - val_mean_absolute_error: 0.1402\n",
      "Epoch 10/20\n",
      "54/54 [==============================] - 1s 21ms/step - loss: 0.1450 - mean_absolute_error: 0.1450 - val_loss: 0.1337 - val_mean_absolute_error: 0.1337\n",
      "Epoch 11/20\n",
      "54/54 [==============================] - 1s 21ms/step - loss: 0.1374 - mean_absolute_error: 0.1374 - val_loss: 0.1212 - val_mean_absolute_error: 0.1212\n",
      "Epoch 12/20\n",
      "54/54 [==============================] - 1s 21ms/step - loss: 0.1421 - mean_absolute_error: 0.1421 - val_loss: 0.1448 - val_mean_absolute_error: 0.1448\n",
      "Epoch 13/20\n",
      "54/54 [==============================] - 1s 21ms/step - loss: 0.1362 - mean_absolute_error: 0.1362 - val_loss: 0.1231 - val_mean_absolute_error: 0.1231\n",
      "Epoch 14/20\n",
      "54/54 [==============================] - 1s 22ms/step - loss: 0.1306 - mean_absolute_error: 0.1306 - val_loss: 0.1245 - val_mean_absolute_error: 0.1245\n"
     ]
    },
    {
     "data": {
      "text/plain": [
       "<keras.src.callbacks.History at 0x7f5750640e10>"
      ]
     },
     "execution_count": 11,
     "metadata": {},
     "output_type": "execute_result"
    }
   ],
   "source": [
    "# Train the model\n",
    "lstm_model_hour.fit(X_train_hour, y_train_hour, epochs=20, batch_size=32, validation_split=0.1, callbacks=[early_stopping])\n"
   ]
  },
  {
   "cell_type": "markdown",
   "metadata": {},
   "source": [
    "## TCN"
   ]
  },
  {
   "cell_type": "code",
   "execution_count": 12,
   "metadata": {},
   "outputs": [],
   "source": [
    "# Build the TCN model\n",
    "tcn_model_hour = Sequential([\n",
    "    TCN(input_shape=(sequence_length, X_train_hour.shape[2])),\n",
    "    Dense(1, activation='sigmoid')\n",
    "])\n"
   ]
  },
  {
   "cell_type": "code",
   "execution_count": 13,
   "metadata": {},
   "outputs": [
    {
     "name": "stdout",
     "output_type": "stream",
     "text": [
      "Epoch 1/20\n",
      "54/54 [==============================] - 5s 46ms/step - loss: 0.4721 - mean_absolute_error: 0.4721 - val_loss: 0.4293 - val_mean_absolute_error: 0.4293\n",
      "Epoch 2/20\n",
      "54/54 [==============================] - 2s 36ms/step - loss: 0.4514 - mean_absolute_error: 0.4514 - val_loss: 0.4293 - val_mean_absolute_error: 0.4293\n",
      "Epoch 3/20\n",
      "54/54 [==============================] - 2s 37ms/step - loss: 0.4514 - mean_absolute_error: 0.4514 - val_loss: 0.4293 - val_mean_absolute_error: 0.4293\n",
      "Epoch 4/20\n",
      "54/54 [==============================] - 2s 38ms/step - loss: 0.4514 - mean_absolute_error: 0.4514 - val_loss: 0.4293 - val_mean_absolute_error: 0.4293\n",
      "Epoch 5/20\n",
      "54/54 [==============================] - 2s 35ms/step - loss: 0.4514 - mean_absolute_error: 0.4514 - val_loss: 0.4293 - val_mean_absolute_error: 0.4293\n",
      "Epoch 6/20\n",
      "54/54 [==============================] - 2s 36ms/step - loss: 0.4514 - mean_absolute_error: 0.4514 - val_loss: 0.4293 - val_mean_absolute_error: 0.4293\n",
      "Epoch 7/20\n",
      "54/54 [==============================] - 2s 37ms/step - loss: 0.4514 - mean_absolute_error: 0.4514 - val_loss: 0.4293 - val_mean_absolute_error: 0.4293\n",
      "Epoch 8/20\n",
      "54/54 [==============================] - 2s 36ms/step - loss: 0.4514 - mean_absolute_error: 0.4514 - val_loss: 0.4293 - val_mean_absolute_error: 0.4293\n",
      "Epoch 9/20\n",
      "54/54 [==============================] - 2s 35ms/step - loss: 0.4514 - mean_absolute_error: 0.4514 - val_loss: 0.4293 - val_mean_absolute_error: 0.4293\n",
      "Epoch 10/20\n",
      "54/54 [==============================] - 2s 36ms/step - loss: 0.4514 - mean_absolute_error: 0.4514 - val_loss: 0.4293 - val_mean_absolute_error: 0.4293\n",
      "Epoch 11/20\n",
      "54/54 [==============================] - 2s 36ms/step - loss: 0.4514 - mean_absolute_error: 0.4514 - val_loss: 0.4293 - val_mean_absolute_error: 0.4293\n",
      "Epoch 12/20\n",
      "54/54 [==============================] - 2s 35ms/step - loss: 0.4514 - mean_absolute_error: 0.4514 - val_loss: 0.4293 - val_mean_absolute_error: 0.4293\n",
      "Epoch 13/20\n",
      "54/54 [==============================] - 2s 36ms/step - loss: 0.4514 - mean_absolute_error: 0.4514 - val_loss: 0.4293 - val_mean_absolute_error: 0.4293\n",
      "Epoch 14/20\n",
      "54/54 [==============================] - 2s 35ms/step - loss: 0.4514 - mean_absolute_error: 0.4514 - val_loss: 0.4293 - val_mean_absolute_error: 0.4293\n",
      "Epoch 15/20\n",
      "54/54 [==============================] - 2s 37ms/step - loss: 0.4514 - mean_absolute_error: 0.4514 - val_loss: 0.4293 - val_mean_absolute_error: 0.4293\n",
      "Epoch 16/20\n",
      "54/54 [==============================] - 2s 36ms/step - loss: 0.4514 - mean_absolute_error: 0.4514 - val_loss: 0.4293 - val_mean_absolute_error: 0.4293\n",
      "Epoch 17/20\n",
      "54/54 [==============================] - 2s 35ms/step - loss: 0.4514 - mean_absolute_error: 0.4514 - val_loss: 0.4293 - val_mean_absolute_error: 0.4293\n",
      "Epoch 18/20\n",
      "54/54 [==============================] - 2s 35ms/step - loss: 0.4514 - mean_absolute_error: 0.4514 - val_loss: 0.4293 - val_mean_absolute_error: 0.4293\n",
      "Epoch 19/20\n",
      "54/54 [==============================] - 2s 35ms/step - loss: 0.4514 - mean_absolute_error: 0.4514 - val_loss: 0.4293 - val_mean_absolute_error: 0.4293\n",
      "Epoch 20/20\n",
      "54/54 [==============================] - 2s 35ms/step - loss: 0.4514 - mean_absolute_error: 0.4514 - val_loss: 0.4293 - val_mean_absolute_error: 0.4293\n"
     ]
    },
    {
     "data": {
      "text/plain": [
       "<keras.src.callbacks.History at 0x7f5740692550>"
      ]
     },
     "execution_count": 13,
     "metadata": {},
     "output_type": "execute_result"
    }
   ],
   "source": [
    "# Compile the model\n",
    "tcn_model_hour.compile(loss='mean_absolute_error', optimizer='adam', metrics=['mean_absolute_error'])\n",
    "\n",
    "# Train the model\n",
    "tcn_model_hour.fit(X_train_hour, y_train_hour, epochs=20, batch_size=32, validation_split=0.1)\n"
   ]
  },
  {
   "cell_type": "markdown",
   "metadata": {},
   "source": [
    "## Hybrid Model - Naive"
   ]
  },
  {
   "cell_type": "code",
   "execution_count": 15,
   "metadata": {},
   "outputs": [],
   "source": [
    "# Ensemble Model combining LSTM and TCN\n",
    "def create_hybrid_model(lstm_model, tcn_model):\n",
    "    lstm_input = lstm_model.input\n",
    "    tcn_input = tcn_model.input\n",
    "\n",
    "    # Get the output layers of both models\n",
    "    lstm_output = lstm_model.layers[-1].output\n",
    "    tcn_output = tcn_model.layers[-1].output\n",
    "\n",
    "    # Concatenate the outputs\n",
    "    merged = concatenate([lstm_output, tcn_output])\n",
    "\n",
    "    # Add a dense layer for final prediction\n",
    "    merged = Dense(1, activation='sigmoid')(merged)\n",
    "\n",
    "    # Create the ensemble model\n",
    "    ensemble_model = Model(inputs=[lstm_input, tcn_input], outputs=merged)\n",
    "\n",
    "    # Compile the model\n",
    "    ensemble_model.compile(loss='mean_absolute_error', optimizer='adam', metrics=['mean_absolute_error'])\n",
    "\n",
    "    return ensemble_model\n"
   ]
  },
  {
   "cell_type": "code",
   "execution_count": 17,
   "metadata": {},
   "outputs": [
    {
     "name": "stdout",
     "output_type": "stream",
     "text": [
      "Epoch 1/20\n"
     ]
    },
    {
     "name": "stdout",
     "output_type": "stream",
     "text": [
      "54/54 [==============================] - 7s 53ms/step - loss: 0.5096 - mean_absolute_error: 0.5096 - val_loss: 0.4992 - val_mean_absolute_error: 0.4992\n",
      "Epoch 2/20\n",
      "54/54 [==============================] - 2s 38ms/step - loss: 0.4987 - mean_absolute_error: 0.4987 - val_loss: 0.4969 - val_mean_absolute_error: 0.4969\n",
      "Epoch 3/20\n",
      "54/54 [==============================] - 2s 37ms/step - loss: 0.4970 - mean_absolute_error: 0.4970 - val_loss: 0.4950 - val_mean_absolute_error: 0.4950\n",
      "Epoch 4/20\n",
      "54/54 [==============================] - 2s 37ms/step - loss: 0.4954 - mean_absolute_error: 0.4954 - val_loss: 0.4912 - val_mean_absolute_error: 0.4912\n",
      "Epoch 5/20\n",
      "54/54 [==============================] - 2s 38ms/step - loss: 0.4919 - mean_absolute_error: 0.4919 - val_loss: 0.4885 - val_mean_absolute_error: 0.4885\n",
      "Epoch 6/20\n",
      "54/54 [==============================] - 2s 37ms/step - loss: 0.4892 - mean_absolute_error: 0.4892 - val_loss: 0.4858 - val_mean_absolute_error: 0.4858\n",
      "Epoch 7/20\n",
      "54/54 [==============================] - 2s 37ms/step - loss: 0.4860 - mean_absolute_error: 0.4860 - val_loss: 0.4708 - val_mean_absolute_error: 0.4708\n",
      "Epoch 8/20\n",
      "54/54 [==============================] - 2s 37ms/step - loss: 0.4428 - mean_absolute_error: 0.4428 - val_loss: 0.4128 - val_mean_absolute_error: 0.4128\n",
      "Epoch 9/20\n",
      "54/54 [==============================] - 2s 37ms/step - loss: 0.4228 - mean_absolute_error: 0.4228 - val_loss: 0.4042 - val_mean_absolute_error: 0.4042\n",
      "Epoch 10/20\n",
      "54/54 [==============================] - 2s 38ms/step - loss: 0.4085 - mean_absolute_error: 0.4085 - val_loss: 0.3933 - val_mean_absolute_error: 0.3933\n",
      "Epoch 11/20\n",
      "54/54 [==============================] - 2s 37ms/step - loss: 0.3985 - mean_absolute_error: 0.3985 - val_loss: 0.3830 - val_mean_absolute_error: 0.3830\n",
      "Epoch 12/20\n",
      "54/54 [==============================] - 2s 38ms/step - loss: 0.3897 - mean_absolute_error: 0.3897 - val_loss: 0.3742 - val_mean_absolute_error: 0.3742\n",
      "Epoch 13/20\n",
      "54/54 [==============================] - 2s 37ms/step - loss: 0.3859 - mean_absolute_error: 0.3859 - val_loss: 0.3713 - val_mean_absolute_error: 0.3713\n",
      "Epoch 14/20\n",
      "54/54 [==============================] - 2s 37ms/step - loss: 0.3792 - mean_absolute_error: 0.3792 - val_loss: 0.3637 - val_mean_absolute_error: 0.3637\n",
      "Epoch 15/20\n",
      "54/54 [==============================] - 2s 37ms/step - loss: 0.3721 - mean_absolute_error: 0.3721 - val_loss: 0.3607 - val_mean_absolute_error: 0.3607\n",
      "Epoch 16/20\n",
      "54/54 [==============================] - 2s 36ms/step - loss: 0.3679 - mean_absolute_error: 0.3679 - val_loss: 0.3558 - val_mean_absolute_error: 0.3558\n",
      "Epoch 17/20\n",
      "54/54 [==============================] - 2s 37ms/step - loss: 0.3634 - mean_absolute_error: 0.3634 - val_loss: 0.3529 - val_mean_absolute_error: 0.3529\n",
      "Epoch 18/20\n",
      "54/54 [==============================] - 2s 37ms/step - loss: 0.3588 - mean_absolute_error: 0.3588 - val_loss: 0.3507 - val_mean_absolute_error: 0.3507\n",
      "Epoch 19/20\n",
      "54/54 [==============================] - 2s 37ms/step - loss: 0.3565 - mean_absolute_error: 0.3565 - val_loss: 0.3436 - val_mean_absolute_error: 0.3436\n",
      "Epoch 20/20\n",
      "54/54 [==============================] - 2s 37ms/step - loss: 0.3482 - mean_absolute_error: 0.3482 - val_loss: 0.3364 - val_mean_absolute_error: 0.3364\n"
     ]
    },
    {
     "data": {
      "text/plain": [
       "<keras.src.callbacks.History at 0x7f57401db890>"
      ]
     },
     "execution_count": 17,
     "metadata": {},
     "output_type": "execute_result"
    }
   ],
   "source": [
    "# Create the hybrid model\n",
    "hybrid_model_hour = create_hybrid_model(lstm_model_hour, tcn_model_hour)\n",
    "\n",
    "# Train the hybrid model with both LSTM and TCN data\n",
    "hybrid_model_hour.fit([X_train_hour, X_train_hour], y_train_hour, epochs=20, batch_size=32, validation_split=0.1)\n"
   ]
  },
  {
   "cell_type": "code",
   "execution_count": 18,
   "metadata": {},
   "outputs": [
    {
     "name": "stdout",
     "output_type": "stream",
     "text": [
      "Model Mean Absolute Error: 0.3366\n"
     ]
    }
   ],
   "source": [
    "# Evaluate the model using Mean Absolute Error\n",
    "mae_hour = hybrid_model_hour.evaluate([X_test_hour, X_test_hour], y_test_hour, verbose=0)[1]\n",
    "print(f'Model Mean Absolute Error: {mae_hour:.4f}')\n"
   ]
  },
  {
   "cell_type": "code",
   "execution_count": 19,
   "metadata": {},
   "outputs": [
    {
     "name": "stdout",
     "output_type": "stream",
     "text": [
      "1/1 [==============================] - 1s 750ms/step\n",
      "1/1 [==============================] - 0s 26ms/step\n",
      "1/1 [==============================] - 0s 26ms/step\n",
      "1/1 [==============================] - 0s 24ms/step\n",
      "1/1 [==============================] - 0s 25ms/step\n",
      "1/1 [==============================] - 0s 23ms/step\n",
      "1/1 [==============================] - 0s 24ms/step\n",
      "Predicted Failures for the Next 7 Time Steps (Hybrid):\n",
      "[0.18048015, 0.17682935, 0.1784299, 0.17971909, 0.18065532, 0.18113437, 0.18167326]\n",
      "Mean Absolute Error for Predictions: 0.5465\n"
     ]
    }
   ],
   "source": [
    "# Function to make predictions on new data for the hybrid model\n",
    "def predict_future_failures_hybrid(model, input_data_lstm, input_data_tcn, sequence_length, prediction_steps):\n",
    "    predictions = []\n",
    "\n",
    "    for _ in range(prediction_steps):\n",
    "        # Make predictions for the next time step using both LSTM and TCN models\n",
    "        prediction = model.predict([input_data_lstm.reshape(1, sequence_length, input_data_lstm.shape[1]),\n",
    "                                    input_data_tcn.reshape(1, sequence_length, input_data_tcn.shape[1])])\n",
    "        predictions.append(prediction[0, 0])\n",
    "\n",
    "        # Shift the input data by one time step and append the new prediction\n",
    "        input_data_lstm = np.roll(input_data_lstm, shift=-1, axis=0)\n",
    "        input_data_lstm[-1, -1] = prediction[0, 0]\n",
    "\n",
    "        input_data_tcn = np.roll(input_data_tcn, shift=-1, axis=0)\n",
    "        input_data_tcn[-1, -1] = prediction[0, 0]\n",
    "\n",
    "    return predictions\n",
    "\n",
    "# Select a starting point for predictions\n",
    "input_data_lstm_hybrid = X_test_hour[10]\n",
    "input_data_tcn_hybrid = X_test_hour[10]\n",
    "\n",
    "# Number of time steps to predict into the future\n",
    "prediction_steps_hybrid = 7\n",
    "\n"
   ]
  },
  {
   "cell_type": "code",
   "execution_count": 22,
   "metadata": {},
   "outputs": [
    {
     "name": "stdout",
     "output_type": "stream",
     "text": [
      "1/1 [==============================] - 0s 26ms/step\n",
      "1/1 [==============================] - 0s 22ms/step\n",
      "1/1 [==============================] - 0s 22ms/step\n",
      "1/1 [==============================] - 0s 24ms/step\n",
      "1/1 [==============================] - 0s 23ms/step\n",
      "1/1 [==============================] - 0s 22ms/step\n",
      "1/1 [==============================] - 0s 25ms/step\n",
      "Predicted Failures for the Next 7 Time Steps (Hybrid):\n",
      "[0.16422383, 0.23447375, 0.26028836, 0.27101928, 0.27706224, 0.28129625, 0.2888697]\n",
      "Mean Absolute Error for Predictions: 0.5240\n"
     ]
    }
   ],
   "source": [
    "# Make predictions with the hybrid model\n",
    "predicted_failures_hybrid = predict_future_failures_hybrid(hybrid_model_hour, input_data_lstm_hybrid, input_data_tcn_hybrid, sequence_length, prediction_steps_hybrid)\n",
    "\n",
    "# Print the predicted failures\n",
    "print(\"Predicted Failures for the Next 7 Time Steps (Hybrid):\")\n",
    "print(predicted_failures_hybrid)\n",
    "\n",
    "# Evaluate the predictions using Mean Absolute Error\n",
    "mae_predictions_hybrid = np.mean(np.abs(predicted_failures_hybrid - y_test_hour[10:10+prediction_steps_hybrid]))\n",
    "print(f'Mean Absolute Error for Predictions: {mae_predictions_hybrid:.4f}')\n"
   ]
  },
  {
   "cell_type": "markdown",
   "metadata": {},
   "source": [
    "## Hybrid Model - Attention"
   ]
  },
  {
   "cell_type": "code",
   "execution_count": 14,
   "metadata": {},
   "outputs": [],
   "source": [
    "from tensorflow.keras.layers import Attention, Concatenate\n",
    "\n",
    "# Function to create a hybrid model with attention mechanism\n",
    "def create_attention_hybrid_model(lstm_model, tcn_model):\n",
    "    lstm_input = lstm_model.input\n",
    "    tcn_input = tcn_model.input\n",
    "\n",
    "    # Get the output layers of both models\n",
    "    lstm_output = lstm_model.layers[-1].output\n",
    "    tcn_output = tcn_model.layers[-1].output\n",
    "\n",
    "    # Use Attention mechanism to combine outputs\n",
    "    attention = Attention()([lstm_output, tcn_output])\n",
    "    merged = Concatenate()([lstm_output, tcn_output, attention])\n",
    "\n",
    "    # Add a dense layer for the final prediction\n",
    "    merged = Dense(1, activation='sigmoid')(merged)\n",
    "\n",
    "    # Create the ensemble model\n",
    "    ensemble_model = Model(inputs=[lstm_input, tcn_input], outputs=merged)\n",
    "\n",
    "    # Compile the model\n",
    "    ensemble_model.compile(loss='mean_absolute_error', optimizer='adam', metrics=['mean_absolute_error'])\n",
    "\n",
    "    return ensemble_model\n"
   ]
  },
  {
   "cell_type": "code",
   "execution_count": 20,
   "metadata": {},
   "outputs": [
    {
     "name": "stdout",
     "output_type": "stream",
     "text": [
      "Epoch 1/20\n",
      "54/54 [==============================] - 8s 53ms/step - loss: 0.3833 - mean_absolute_error: 0.3833 - val_loss: 0.3688 - val_mean_absolute_error: 0.3688\n",
      "Epoch 2/20\n",
      "54/54 [==============================] - 2s 39ms/step - loss: 0.3768 - mean_absolute_error: 0.3768 - val_loss: 0.3626 - val_mean_absolute_error: 0.3626\n",
      "Epoch 3/20\n",
      "54/54 [==============================] - 2s 39ms/step - loss: 0.3712 - mean_absolute_error: 0.3712 - val_loss: 0.3582 - val_mean_absolute_error: 0.3582\n",
      "Epoch 4/20\n",
      "54/54 [==============================] - 2s 39ms/step - loss: 0.3657 - mean_absolute_error: 0.3657 - val_loss: 0.3523 - val_mean_absolute_error: 0.3523\n",
      "Epoch 5/20\n",
      "54/54 [==============================] - 2s 38ms/step - loss: 0.3622 - mean_absolute_error: 0.3622 - val_loss: 0.3486 - val_mean_absolute_error: 0.3486\n",
      "Epoch 6/20\n",
      "54/54 [==============================] - 2s 37ms/step - loss: 0.3574 - mean_absolute_error: 0.3574 - val_loss: 0.3446 - val_mean_absolute_error: 0.3446\n",
      "Epoch 7/20\n",
      "54/54 [==============================] - 2s 37ms/step - loss: 0.3552 - mean_absolute_error: 0.3552 - val_loss: 0.3402 - val_mean_absolute_error: 0.3402\n",
      "Epoch 8/20\n",
      "54/54 [==============================] - 2s 37ms/step - loss: 0.3505 - mean_absolute_error: 0.3505 - val_loss: 0.3354 - val_mean_absolute_error: 0.3354\n",
      "Epoch 9/20\n",
      "54/54 [==============================] - 2s 37ms/step - loss: 0.3453 - mean_absolute_error: 0.3453 - val_loss: 0.3307 - val_mean_absolute_error: 0.3307\n",
      "Epoch 10/20\n",
      "54/54 [==============================] - 2s 38ms/step - loss: 0.3414 - mean_absolute_error: 0.3414 - val_loss: 0.3273 - val_mean_absolute_error: 0.3273\n",
      "Epoch 11/20\n",
      "54/54 [==============================] - 2s 38ms/step - loss: 0.3364 - mean_absolute_error: 0.3364 - val_loss: 0.3308 - val_mean_absolute_error: 0.3308\n",
      "Epoch 12/20\n",
      "54/54 [==============================] - 2s 37ms/step - loss: 0.3338 - mean_absolute_error: 0.3338 - val_loss: 0.3237 - val_mean_absolute_error: 0.3237\n",
      "Epoch 13/20\n",
      "54/54 [==============================] - 2s 38ms/step - loss: 0.3278 - mean_absolute_error: 0.3278 - val_loss: 0.3132 - val_mean_absolute_error: 0.3132\n",
      "Epoch 14/20\n",
      "54/54 [==============================] - 2s 38ms/step - loss: 0.3240 - mean_absolute_error: 0.3240 - val_loss: 0.3114 - val_mean_absolute_error: 0.3114\n",
      "Epoch 15/20\n",
      "54/54 [==============================] - 2s 37ms/step - loss: 0.3172 - mean_absolute_error: 0.3172 - val_loss: 0.3044 - val_mean_absolute_error: 0.3044\n",
      "Epoch 16/20\n",
      "54/54 [==============================] - 2s 37ms/step - loss: 0.3119 - mean_absolute_error: 0.3119 - val_loss: 0.3027 - val_mean_absolute_error: 0.3027\n",
      "Epoch 17/20\n",
      "54/54 [==============================] - 2s 38ms/step - loss: 0.3082 - mean_absolute_error: 0.3082 - val_loss: 0.2982 - val_mean_absolute_error: 0.2982\n",
      "Epoch 18/20\n",
      "54/54 [==============================] - 2s 38ms/step - loss: 0.3080 - mean_absolute_error: 0.3080 - val_loss: 0.3023 - val_mean_absolute_error: 0.3023\n",
      "Epoch 19/20\n",
      "54/54 [==============================] - 2s 38ms/step - loss: 0.3035 - mean_absolute_error: 0.3035 - val_loss: 0.2907 - val_mean_absolute_error: 0.2907\n",
      "Epoch 20/20\n",
      "54/54 [==============================] - 2s 38ms/step - loss: 0.2977 - mean_absolute_error: 0.2977 - val_loss: 0.2952 - val_mean_absolute_error: 0.2952\n"
     ]
    },
    {
     "data": {
      "text/plain": [
       "<keras.src.callbacks.History at 0x7f56bef285d0>"
      ]
     },
     "execution_count": 20,
     "metadata": {},
     "output_type": "execute_result"
    }
   ],
   "source": [
    "# Create the hybrid model\n",
    "hybrid_model_hour_attention = create_attention_hybrid_model(lstm_model_hour, tcn_model_hour)\n",
    "\n",
    "# Train the hybrid model with both LSTM and TCN data\n",
    "hybrid_model_hour_attention.fit([X_train_hour, X_train_hour], y_train_hour, epochs=20, batch_size=32, validation_split=0.1)\n"
   ]
  },
  {
   "cell_type": "code",
   "execution_count": 21,
   "metadata": {},
   "outputs": [
    {
     "name": "stdout",
     "output_type": "stream",
     "text": [
      "Model Mean Absolute Error: 0.2952\n"
     ]
    }
   ],
   "source": [
    "# Evaluate the model using Mean Absolute Error\n",
    "mae_hour_attention = hybrid_model_hour_attention.evaluate([X_test_hour, X_test_hour], y_test_hour, verbose=0)[1]\n",
    "print(f'Model Mean Absolute Error: {mae_hour_attention:.4f}')\n"
   ]
  },
  {
   "cell_type": "code",
   "execution_count": 23,
   "metadata": {},
   "outputs": [
    {
     "name": "stdout",
     "output_type": "stream",
     "text": [
      "1/1 [==============================] - 1s 766ms/step\n",
      "1/1 [==============================] - 0s 30ms/step\n",
      "1/1 [==============================] - 0s 23ms/step\n",
      "1/1 [==============================] - 0s 25ms/step\n",
      "1/1 [==============================] - 0s 22ms/step\n",
      "1/1 [==============================] - 0s 23ms/step\n",
      "1/1 [==============================] - 0s 25ms/step\n",
      "Predicted Failures for the Next 7 Time Steps (Hybrid):\n",
      "[0.18409212, 0.27685666, 0.31460607, 0.33073542, 0.33966762, 0.3459241, 0.3559103]\n",
      "Mean Absolute Error for Predictions: 0.5131\n"
     ]
    }
   ],
   "source": [
    "# Make predictions with the hybrid model\n",
    "predicted_failures_hybrid_attention = predict_future_failures_hybrid(hybrid_model_hour_attention, input_data_lstm_hybrid, input_data_tcn_hybrid, sequence_length, prediction_steps_hybrid)\n",
    "\n",
    "# Print the predicted failures\n",
    "print(\"Predicted Failures for the Next 7 Time Steps (Hybrid):\")\n",
    "print(predicted_failures_hybrid_attention)\n",
    "\n",
    "# Evaluate the predictions using Mean Absolute Error\n",
    "mae_predictions_hybrid_attention = np.mean(np.abs(predicted_failures_hybrid_attention - y_test_hour[10:10+prediction_steps_hybrid]))\n",
    "print(f'Mean Absolute Error for Predictions: {mae_predictions_hybrid_attention:.4f}')\n"
   ]
  }
 ],
 "metadata": {
  "kernelspec": {
   "display_name": "base",
   "language": "python",
   "name": "python3"
  },
  "language_info": {
   "codemirror_mode": {
    "name": "ipython",
    "version": 3
   },
   "file_extension": ".py",
   "mimetype": "text/x-python",
   "name": "python",
   "nbconvert_exporter": "python",
   "pygments_lexer": "ipython3",
   "version": "3.11.4"
  }
 },
 "nbformat": 4,
 "nbformat_minor": 2
}
