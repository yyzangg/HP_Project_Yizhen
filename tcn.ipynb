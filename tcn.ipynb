{
 "cells": [
  {
   "cell_type": "code",
   "execution_count": 14,
   "metadata": {},
   "outputs": [],
   "source": [
    "import pandas as pd\n",
    "import warnings\n",
    "warnings.filterwarnings('ignore')\n",
    "file_path = \"myData2.parquet\"\n",
    "df = pd.read_parquet(file_path)\n"
   ]
  },
  {
   "cell_type": "code",
   "execution_count": 39,
   "metadata": {},
   "outputs": [
    {
     "data": {
      "text/plain": [
       "ML_Node\n",
       "0    461500\n",
       "Name: count, dtype: int64"
      ]
     },
     "execution_count": 39,
     "metadata": {},
     "output_type": "execute_result"
    }
   ],
   "source": [
    "df['ML_Node'].value_counts()"
   ]
  },
  {
   "cell_type": "code",
   "execution_count": 25,
   "metadata": {},
   "outputs": [],
   "source": [
    "import numpy as np\n",
    "from sklearn.preprocessing import MinMaxScaler\n",
    "from sklearn.model_selection import train_test_split\n",
    "from tensorflow.keras.models import Sequential\n",
    "from tensorflow.keras.layers import LSTM, Dense\n",
    "from tensorflow.keras.callbacks import EarlyStopping\n",
    "import torch\n",
    "import torch.nn as nn\n",
    "from torch.utils.data import DataLoader, Dataset\n",
    "from sklearn.preprocessing import StandardScaler\n",
    "from tcn import TCN"
   ]
  },
  {
   "cell_type": "code",
   "execution_count": 16,
   "metadata": {},
   "outputs": [],
   "source": [
    "selected_features = ['timestamp_seconds', # lowers the accuracy \n",
    "                     'node_memory_Percpu_bytes', \n",
    "                     'node_context_switches_total', \n",
    "                     'surfsara_power_usage', \n",
    "                     'node_netstat_Tcp_InSegs', \n",
    "                     'node_netstat_Tcp_OutSegs', \n",
    "                     'node_network_transmit_packets_total-sum', \n",
    "                     'node_filesystem_size_bytes-sum', \n",
    "                     'node_filesystem_files-sum', \n",
    "                     'node_memory_MemFree_bytes', \n",
    "                     'node_netstat_Tcp_InErrs']\n"
   ]
  },
  {
   "cell_type": "code",
   "execution_count": 17,
   "metadata": {},
   "outputs": [],
   "source": [
    "# Add a new column 'failed_jobs' representing the target variable\n",
    "df['failed_jobs'] = (df['state'] == 'FAILED').astype(int)\n",
    "\n",
    "# Extract relevant columns\n",
    "df_selected = df[['timestamp', 'state'] + selected_features].copy()\n",
    "\n",
    "# Encode the target variable 'state' to binary (0 for \"COMPLETED\", 1 otherwise)\n",
    "df_selected['target'] = (df_selected['state'] != 'COMPLETED').astype(int)\n",
    "\n",
    "# Drop the original 'state' column\n",
    "df_selected.drop('state', axis=1, inplace=True)\n"
   ]
  },
  {
   "cell_type": "code",
   "execution_count": 18,
   "metadata": {},
   "outputs": [],
   "source": [
    "# Define time intervals\n",
    "time_intervals = {'minute': '1T', 'hour': '1H', 'day': '1D'}\n"
   ]
  },
  {
   "cell_type": "code",
   "execution_count": 19,
   "metadata": {},
   "outputs": [],
   "source": [
    "# Normalize selected features\n",
    "scaler = MinMaxScaler()\n",
    "df_selected[selected_features] = scaler.fit_transform(df_selected[selected_features])\n"
   ]
  },
  {
   "cell_type": "code",
   "execution_count": 20,
   "metadata": {},
   "outputs": [],
   "source": [
    "# Set sequence length\n",
    "sequence_length = 30"
   ]
  },
  {
   "cell_type": "code",
   "execution_count": 21,
   "metadata": {},
   "outputs": [],
   "source": [
    "# Function to prepare data for TCN\n",
    "def prepare_tcn_data(data, time_interval):\n",
    "    data.set_index('timestamp', inplace=True) # FixMe\n",
    "    data_resampled = data.resample(time_interval).sum()\n",
    "    data_resampled['target'] = data_resampled['target'].clip(upper=1)  # Clip values to 1\n",
    "    return data_resampled\n"
   ]
  },
  {
   "cell_type": "code",
   "execution_count": 22,
   "metadata": {},
   "outputs": [],
   "source": [
    "# Function to create sequences for TCN\n",
    "def create_tcn_sequences(data, sequence_length):\n",
    "    sequences, targets = [], []\n",
    "    for i in range(len(data) - sequence_length):\n",
    "        seq = data.iloc[i:i+sequence_length].values\n",
    "        target = data.iloc[i+sequence_length]['target']\n",
    "        sequences.append(seq)\n",
    "        targets.append(target)\n",
    "    return np.array(sequences), np.array(targets)"
   ]
  },
  {
   "cell_type": "markdown",
   "metadata": {},
   "source": [
    "# Hour"
   ]
  },
  {
   "cell_type": "code",
   "execution_count": 23,
   "metadata": {},
   "outputs": [],
   "source": [
    "# Prepare data for TCN with minute intervals\n",
    "tcn_data_hour = prepare_tcn_data(df_selected, time_intervals['hour'])\n",
    "\n",
    "# Create sequences and targets\n",
    "sequences_hour, targets_hour = create_tcn_sequences(tcn_data_hour, sequence_length)\n",
    "\n",
    "# Split the data into training and testing sets\n",
    "X_train_hour, X_test_hour, y_train_hour, y_test_hour = train_test_split(sequences_hour, targets_hour, test_size=0.3, random_state=42)\n"
   ]
  },
  {
   "cell_type": "code",
   "execution_count": 29,
   "metadata": {},
   "outputs": [],
   "source": [
    "# Build the TCN model\n",
    "tcn_model_hour = Sequential([\n",
    "    TCN(input_shape=(sequence_length, X_train_hour.shape[2])),\n",
    "    Dense(1, activation='sigmoid')\n",
    "])"
   ]
  },
  {
   "cell_type": "code",
   "execution_count": 37,
   "metadata": {},
   "outputs": [
    {
     "name": "stdout",
     "output_type": "stream",
     "text": [
      "Epoch 1/20\n",
      "54/54 [==============================] - 6s 46ms/step - loss: 3.7889 - accuracy: 0.7923 - val_loss: 5.8683 - val_accuracy: 0.7225\n",
      "Epoch 2/20\n",
      "54/54 [==============================] - 2s 39ms/step - loss: 2.2409 - accuracy: 0.8691 - val_loss: 2.9317 - val_accuracy: 0.8482\n",
      "Epoch 3/20\n",
      "54/54 [==============================] - 2s 37ms/step - loss: 1.7209 - accuracy: 0.8534 - val_loss: 1.4996 - val_accuracy: 0.8796\n",
      "Epoch 4/20\n",
      "54/54 [==============================] - 2s 36ms/step - loss: 1.2119 - accuracy: 0.8819 - val_loss: 1.8374 - val_accuracy: 0.8639\n",
      "Epoch 5/20\n",
      "54/54 [==============================] - 2s 37ms/step - loss: 1.0515 - accuracy: 0.8767 - val_loss: 2.5472 - val_accuracy: 0.8482\n",
      "Epoch 6/20\n",
      "54/54 [==============================] - 2s 38ms/step - loss: 0.8794 - accuracy: 0.9075 - val_loss: 1.7708 - val_accuracy: 0.8429\n",
      "Epoch 7/20\n",
      "54/54 [==============================] - 2s 36ms/step - loss: 0.7587 - accuracy: 0.9052 - val_loss: 3.2308 - val_accuracy: 0.7958\n",
      "Epoch 8/20\n",
      "54/54 [==============================] - 2s 36ms/step - loss: 1.2745 - accuracy: 0.8796 - val_loss: 3.3483 - val_accuracy: 0.8272\n",
      "Epoch 9/20\n",
      "54/54 [==============================] - 2s 36ms/step - loss: 0.9420 - accuracy: 0.8912 - val_loss: 4.9496 - val_accuracy: 0.7277\n",
      "Epoch 10/20\n",
      "54/54 [==============================] - 2s 37ms/step - loss: 1.7282 - accuracy: 0.8988 - val_loss: 2.5718 - val_accuracy: 0.8063\n",
      "Epoch 11/20\n",
      "54/54 [==============================] - 2s 38ms/step - loss: 1.0765 - accuracy: 0.9203 - val_loss: 1.5538 - val_accuracy: 0.8586\n",
      "Epoch 12/20\n",
      "54/54 [==============================] - 2s 36ms/step - loss: 0.8114 - accuracy: 0.8988 - val_loss: 1.6128 - val_accuracy: 0.8429\n",
      "Epoch 13/20\n",
      "54/54 [==============================] - 2s 37ms/step - loss: 1.2144 - accuracy: 0.8796 - val_loss: 3.6380 - val_accuracy: 0.8325\n",
      "Epoch 14/20\n",
      "54/54 [==============================] - 2s 37ms/step - loss: 1.3794 - accuracy: 0.8807 - val_loss: 3.9937 - val_accuracy: 0.7487\n",
      "Epoch 15/20\n",
      "54/54 [==============================] - 2s 36ms/step - loss: 0.6724 - accuracy: 0.9279 - val_loss: 3.1508 - val_accuracy: 0.7696\n",
      "Epoch 16/20\n",
      "54/54 [==============================] - 2s 35ms/step - loss: 0.4582 - accuracy: 0.9337 - val_loss: 1.1745 - val_accuracy: 0.9005\n",
      "Epoch 17/20\n",
      "54/54 [==============================] - 2s 36ms/step - loss: 0.2703 - accuracy: 0.9471 - val_loss: 1.2914 - val_accuracy: 0.8901\n",
      "Epoch 18/20\n",
      "54/54 [==============================] - 2s 36ms/step - loss: 0.1749 - accuracy: 0.9692 - val_loss: 1.2838 - val_accuracy: 0.8377\n",
      "Epoch 19/20\n",
      "54/54 [==============================] - 2s 37ms/step - loss: 0.1456 - accuracy: 0.9651 - val_loss: 1.1598 - val_accuracy: 0.9005\n",
      "Epoch 20/20\n",
      "54/54 [==============================] - 2s 37ms/step - loss: 0.0718 - accuracy: 0.9796 - val_loss: 1.8228 - val_accuracy: 0.8534\n"
     ]
    },
    {
     "data": {
      "text/plain": [
       "<keras.src.callbacks.History at 0x7f93b05efdd0>"
      ]
     },
     "execution_count": 37,
     "metadata": {},
     "output_type": "execute_result"
    }
   ],
   "source": [
    "# Compile the model\n",
    "tcn_model_hour.compile(loss='binary_crossentropy', optimizer='adam', metrics=['accuracy'])\n",
    "\n",
    "# Train the model\n",
    "tcn_model_hour.fit(X_train_hour, y_train_hour, epochs=20, batch_size=32, validation_split=0.1)"
   ]
  },
  {
   "cell_type": "code",
   "execution_count": 38,
   "metadata": {},
   "outputs": [],
   "source": [
    "# Function to make predictions on new data for TCN model\n",
    "def predict_future_failures_tcn(model, input_data, sequence_length, prediction_steps):\n",
    "    predictions = []\n",
    "\n",
    "    for _ in range(prediction_steps):\n",
    "        # Make a prediction for the next time step\n",
    "        prediction = model.predict(input_data.reshape(1, sequence_length, input_data.shape[1]))\n",
    "        predictions.append(prediction[0, 0])\n",
    "\n",
    "        # Shift the input data by one time step and append the new prediction\n",
    "        input_data = np.roll(input_data, shift=-1, axis=0)\n",
    "        input_data[-1, -1] = prediction[0, 0]\n",
    "\n",
    "    return predictions"
   ]
  },
  {
   "cell_type": "code",
   "execution_count": 35,
   "metadata": {},
   "outputs": [
    {
     "name": "stdout",
     "output_type": "stream",
     "text": [
      "26/26 [==============================] - 0s 17ms/step - loss: 3.3987 - accuracy: 0.8352\n",
      "Model Accuracy: 83.52%\n",
      "1/1 [==============================] - 0s 342ms/step\n",
      "1/1 [==============================] - 0s 24ms/step\n",
      "1/1 [==============================] - 0s 26ms/step\n",
      "1/1 [==============================] - 0s 26ms/step\n",
      "1/1 [==============================] - 0s 24ms/step\n",
      "1/1 [==============================] - 0s 24ms/step\n",
      "1/1 [==============================] - 0s 24ms/step\n",
      "Predicted Failures for the Next 7 Time Steps (TCN):\n",
      "[1.1323531e-08, 0.00015400539, 0.037686497, 0.99476063, 0.7563474, 0.1785389, 1.2227679e-06]\n"
     ]
    }
   ],
   "source": [
    "# Evaluate the TCN model\n",
    "loss, accuracy = tcn_model_hour.evaluate(X_test_hour, y_test_hour)\n",
    "print(f'Model Accuracy: {accuracy * 100:.2f}%')\n",
    "\n",
    "# Select a starting point for predictions\n",
    "input_data_tcn = X_test_hour[10]\n",
    "\n",
    "# Number of time steps to predict into the future\n",
    "prediction_steps_tcn = 7\n",
    "\n",
    "# Make predictions with the TCN model\n",
    "predicted_failures_tcn = predict_future_failures_tcn(tcn_model_hour, input_data_tcn, sequence_length, prediction_steps_tcn)\n",
    "\n",
    "# Print the predicted failures for TCN\n",
    "print(\"Predicted Failures for the Next 7 Time Steps (TCN):\")\n",
    "print(predicted_failures_tcn)\n"
   ]
  },
  {
   "cell_type": "code",
   "execution_count": 44,
   "metadata": {},
   "outputs": [],
   "source": [
    "import numpy as np\n",
    "\n",
    "def safe_smape(y_true, y_pred):\n",
    "    denominator = np.abs(y_true) + np.abs(y_pred)\n",
    "    diff = np.abs(y_true - y_pred) / denominator\n",
    "    diff[denominator == 0] = 0  # Avoid division by zero\n",
    "    return 200 * np.mean(diff)\n",
    "\n"
   ]
  },
  {
   "cell_type": "code",
   "execution_count": 45,
   "metadata": {},
   "outputs": [
    {
     "name": "stdout",
     "output_type": "stream",
     "text": [
      "26/26 [==============================] - 0s 16ms/step\n"
     ]
    }
   ],
   "source": [
    "# Make predictions on the test data\n",
    "y_pred_hour = tcn_model_hour.predict(X_test_hour)\n",
    "\n",
    "smape_score = safe_smape(y_test_hour, y_pred_hour)"
   ]
  },
  {
   "cell_type": "code",
   "execution_count": 46,
   "metadata": {},
   "outputs": [
    {
     "data": {
      "text/plain": [
       "156.21057500974092"
      ]
     },
     "execution_count": 46,
     "metadata": {},
     "output_type": "execute_result"
    }
   ],
   "source": [
    "smape_score"
   ]
  }
 ],
 "metadata": {
  "kernelspec": {
   "display_name": "base",
   "language": "python",
   "name": "python3"
  },
  "language_info": {
   "codemirror_mode": {
    "name": "ipython",
    "version": 3
   },
   "file_extension": ".py",
   "mimetype": "text/x-python",
   "name": "python",
   "nbconvert_exporter": "python",
   "pygments_lexer": "ipython3",
   "version": "3.11.4"
  }
 },
 "nbformat": 4,
 "nbformat_minor": 2
}
